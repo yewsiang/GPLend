{
 "cells": [
  {
   "cell_type": "code",
   "execution_count": null,
   "metadata": {
    "collapsed": true
   },
   "outputs": [],
   "source": [
    "import numpy as np\n",
    "from sklearn.preprocessing import MinMaxScaler\n",
    "from sklearn.model_selection import train_test_split\n",
    "\n",
    "from data import load_dataset, get_train_test_split\n",
    "# from optimization import gp_optimize_threshold\n",
    "# from evaluation import train_and_test_other_models"
   ]
  },
  {
   "cell_type": "code",
   "execution_count": null,
   "metadata": {
    "collapsed": true
   },
   "outputs": [],
   "source": [
    "filename = \"dataset/LoanStats3a.csv\"\n",
    "features, data = load_dataset(filename, encoding='utf-8')\n",
    "print(\"Data shape: %s\" % str(features.shape))"
   ]
  },
  {
   "cell_type": "code",
   "execution_count": null,
   "metadata": {
    "collapsed": true
   },
   "outputs": [],
   "source": [
    "\"\"\"\n",
    "EXPERIMENT 1: GP VS BAYES OPT IN LATER STAGES\n",
    "-------------------------------------------------------\n",
    "Set up:\n",
    "1. Get 100-500 data rows to as training set.\n",
    "2. Create a GP model and train it with training set.\n",
    "3. Let K = 100-200.\n",
    "Experiment:\n",
    "1. Let GP_model do prediction and self-updating using loan_amount_and_variance version for K more steps. Then pure prediction.\n",
    "2. Let GP_model do prediction and self-updating using Bayesian optimization for K more steps. Then pure prediction.\n",
    "3. [OPTIONAL] Let SVM do prediction after training with training set to compare.\n",
    "Results:\n",
    "1. Compare the 3 profits gained at the end of all periods.\n",
    "\"\"\"\n",
    "\n",
    "X_train, X_test, y_train, y_test = get_train_test_split(features, test_size=0.3, random_state=0)\n",
    "X_train, X_val, y_train, y_val = train_test_split(X_train, y_train, train_size=0.2, random_state=0)\n",
    "\n",
    "X_train, y_train = X_train[:1000,:], y_train[:1000]\n",
    "\n",
    "# Normalize\n",
    "X_scaler = MinMaxScaler()\n",
    "X_scaler.fit(X_train)\n",
    "X_train_scaled = X_scaler.transform(X_train)\n",
    "X_val_scaled = X_scaler.transform(X_val)\n",
    "X_test_scaled = X_scaler.transform(X_test)\n",
    "\n",
    "y_scaler = MinMaxScaler()\n",
    "y_scaler.fit(y_train.reshape(-1,1))\n",
    "y_train_scaled = y_scaler.transform(y_train.reshape(-1,1))\n",
    "y_val_scaled = y_scaler.transform(y_val.reshape(-1,1))\n",
    "y_test_scaled = y_scaler.transform(y_test.reshape(-1,1))\n",
    "\n",
    "print(\"X_train: %s, y_train: %s\" % (str(X_train.shape), str(y_train.shape)))\n",
    "print(\"X_val: %s, y_val: %s\" % (str(X_val.shape), str(y_val.shape)))\n",
    "print(\"X_test: %s, y_test: %s\" % (str(X_test.shape), str(y_test.shape)))"
   ]
  },
  {
   "cell_type": "code",
   "execution_count": null,
   "metadata": {
    "collapsed": true
   },
   "outputs": [],
   "source": [
    "# Gaussian Process\n",
    "import GPy\n",
    "\n",
    "# Initialize GP Model\n",
    "kernel = GPy.kern.RBF(input_dim=X_train.shape[1], variance=1., lengthscale=1.)\n",
    "gp_model = GPy.models.GPRegression(X_train, y_train_scaled, kernel)\n",
    "gp_model.optimize()"
   ]
  },
  {
   "cell_type": "code",
   "execution_count": null,
   "metadata": {
    "collapsed": true,
    "scrolled": true
   },
   "outputs": [],
   "source": [
    "%load_ext autoreload\n",
    "%autoreload 2\n",
    "%reload_ext autoreload\n",
    "\n",
    "SEED            = 1\n",
    "THRESHOLD       = 1.1\n",
    "NUM_PERIODS     = 5\n",
    "NUM_MONTHS      = 300\n",
    "FUND_GIVEN      = 0\n",
    "FUND_PER_MONTH  = 1e5\n",
    "LOANS_PER_MONTH = 500\n",
    "CONF_QUANTILE   = (40,100)\n",
    "NUM_UPDATE_ROWS = 100\n",
    "from simulation import *\n",
    "\n",
    "perf_gp = simulate_N_time_periods(\n",
    "    gp_model.copy(),\n",
    "    X_test, y_test,\n",
    "    X_scaler, y_scaler,\n",
    "    threshold=THRESHOLD,\n",
    "    num_periods=NUM_PERIODS,\n",
    "    fund_given=FUND_GIVEN,\n",
    "    num_months=NUM_MONTHS,\n",
    "    incoming_fund_per_month=FUND_PER_MONTH,\n",
    "    incoming_loans_per_time_period=LOANS_PER_MONTH,\n",
    "    conf_quantile=CONF_QUANTILE,\n",
    "    optimize_for=\"TODO\", \n",
    "    version=\"self_updating_gp\",\n",
    "    gp_update_steps=NUM_UPDATE_ROWS,\n",
    "    model_type=\"gp\",\n",
    "    seed=SEED\n",
    ")\n",
    "print(\"Profits for self-updating GP:\")\n",
    "print(np.mean(np.sum(perf_gp[:,:,0], axis=1)))"
   ]
  },
  {
   "cell_type": "code",
   "execution_count": null,
   "metadata": {
    "collapsed": true
   },
   "outputs": [],
   "source": [
    "%load_ext autoreload\n",
    "%autoreload 2\n",
    "%reload_ext autoreload\n",
    "\n",
    "SEED            = 1\n",
    "THRESHOLD       = 1.1\n",
    "NUM_PERIODS     = 5\n",
    "NUM_MONTHS      = 300\n",
    "FUND_GIVEN      = 0\n",
    "FUND_PER_MONTH  = 1e5\n",
    "LOANS_PER_MONTH = 500\n",
    "CONF_QUANTILE   = (40,100)\n",
    "NUM_UPDATE_ROWS = 100\n",
    "\n",
    "from simulation import *\n",
    "\n",
    "from scipy.stats import norm\n",
    "\n",
    "kappa = 3\n",
    "perf_bayes_opt = simulate_N_time_periods(\n",
    "    gp_model.copy(),\n",
    "    X_test, y_test,\n",
    "    X_scaler, y_scaler,\n",
    "    threshold=THRESHOLD,\n",
    "    num_periods=NUM_PERIODS,\n",
    "    fund_given=FUND_GIVEN, \n",
    "    num_months=NUM_MONTHS,\n",
    "    incoming_fund_per_month=FUND_PER_MONTH,\n",
    "    incoming_loans_per_time_period=LOANS_PER_MONTH,\n",
    "    conf_quantile=CONF_QUANTILE,\n",
    "    optimize_for=\"TODO\",\n",
    "    version=\"bayesian_optimization\",\n",
    "    kappa=kappa,\n",
    "    bay_opt_steps=NUM_UPDATE_ROWS,\n",
    "    model_type=\"gp\", seed=SEED\n",
    ")\n",
    "print(\"Profits for Bayesian Optimization:\")\n",
    "print(np.mean(np.sum(perf_bayes_opt[:,:,0], axis=1)))"
   ]
  },
  {
   "cell_type": "code",
   "execution_count": null,
   "metadata": {
    "collapsed": true
   },
   "outputs": [],
   "source": [
    "print(\"Mean Total Profits:\")\n",
    "print(np.mean(np.sum(perf_gp[:,:,0], axis=1)))\n",
    "print(np.mean(np.sum(perf_bayes_opt[:,:,0], axis=1)))\n",
    "\n",
    "import os\n",
    "\n",
    "from visualisation import plot_portfolio_performance, plot_portfolio_performance_comparisons\n",
    "\n",
    "# Saving performances to pickle file and Loading performances from it\n",
    "filename = os.path.join(\"results\", \"perf_bayeopt_vs_gp_1\")\n",
    "meta_info = [\"SelfUpd GP\", \"BayOpt GP\"]\n",
    "performances = [perf_gp, perf_bayes_opt]\n",
    "store_performance_results(performances, meta_info, filename)\n",
    "\n",
    "meta_info, loaded_perf = load_performance_results(filename)\n",
    "print(meta_info)\n",
    "plot_portfolio_performance_comparisons(loaded_perf, legend_names=meta_info)"
   ]
  }
 ],
 "metadata": {
  "celltoolbar": "Raw Cell Format",
  "kernelspec": {
   "display_name": "Python 3",
   "language": "python",
   "name": "python3"
  },
  "language_info": {
   "codemirror_mode": {
    "name": "ipython",
    "version": 3
   },
   "file_extension": ".py",
   "mimetype": "text/x-python",
   "name": "python",
   "nbconvert_exporter": "python",
   "pygments_lexer": "ipython3",
   "version": "3.6.2"
  }
 },
 "nbformat": 4,
 "nbformat_minor": 2
}
