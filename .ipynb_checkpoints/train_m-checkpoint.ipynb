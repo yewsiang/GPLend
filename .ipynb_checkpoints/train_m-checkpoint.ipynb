{
 "cells": [
  {
   "cell_type": "code",
   "execution_count": 24,
   "metadata": {
    "collapsed": true
   },
   "outputs": [],
   "source": [
    "import numpy as np\n",
    "from sklearn.preprocessing import MinMaxScaler\n",
    "from sklearn.model_selection import train_test_split\n",
    "\n",
    "from data import load_dataset, get_train_test_split\n",
    "from optimization import gp_optimize_threshold\n",
    "from evaluation import train_and_test_other_models\n",
    "from kernels import get_predictions, get_optimized_model"
   ]
  },
  {
   "cell_type": "code",
   "execution_count": 25,
   "metadata": {},
   "outputs": [
    {
     "name": "stdout",
     "output_type": "stream",
     "text": [
      "Preprocessing...\n",
      "Feature Engineering...\n",
      "Data shape: (42535, 40)\n"
     ]
    }
   ],
   "source": [
    "filename = \"dataset/LoanStats3a.csv\"\n",
    "features, data = load_dataset(filename)\n",
    "print(\"Data shape: %s\" % str(features.shape))"
   ]
  },
  {
   "cell_type": "code",
   "execution_count": 26,
   "metadata": {},
   "outputs": [
    {
     "name": "stdout",
     "output_type": "stream",
     "text": [
      "X_train: (1000, 38), y_train: (1000,)\n",
      "X_val: (500, 38), y_val: (500,)\n",
      "X_test: (500, 38), y_test: (500,)\n"
     ]
    }
   ],
   "source": [
    "X_train, X_test, y_train, y_test = get_train_test_split(features, test_size=0.3, random_state=0)\n",
    "X_train, X_val, y_train, y_val = train_test_split(X_train, y_train, test_size=0.2, random_state=0)\n",
    "\n",
    "# Temporarily use subset of data to debug faster\n",
    "# TODO: Remove\n",
    "X_train, y_train = X_train[:1000,:], y_train[:1000]\n",
    "X_val, y_val     = X_val[:500,:], y_val[:500]\n",
    "X_test, y_test   = X_test[:500,:], y_test[:500]\n",
    "\n",
    "# Normalize\n",
    "X_scaler = MinMaxScaler()\n",
    "X_scaler.fit(X_train)\n",
    "X_train = X_scaler.transform(X_train)\n",
    "X_val = X_scaler.transform(X_val)\n",
    "X_test = X_scaler.transform(X_test)\n",
    "\n",
    "print(\"X_train: %s, y_train: %s\" % (str(X_train.shape), str(y_train.shape)))\n",
    "print(\"X_val: %s, y_val: %s\" % (str(X_val.shape), str(y_val.shape)))\n",
    "print(\"X_test: %s, y_test: %s\" % (str(X_test.shape), str(y_test.shape)))"
   ]
  },
  {
   "cell_type": "code",
   "execution_count": 38,
   "metadata": {},
   "outputs": [
    {
     "name": "stdout",
     "output_type": "stream",
     "text": [
      "Mean: None\n",
      "Kernel:   \u001b[1mrbf.       \u001b[0;0m  |          value  |  constraints  |  priors\n",
      "  \u001b[1mvariance   \u001b[0;0m  |  0.63918383864  |      +ve      |        \n",
      "  \u001b[1mlengthscale\u001b[0;0m  |  9.65771820014  |      +ve      |        \n"
     ]
    }
   ],
   "source": [
    "# Gaussian Process\n",
    "import GPy\n",
    "\n",
    "# Normalize\n",
    "y_scaler = MinMaxScaler()\n",
    "y_scaler.fit(y_train.reshape(-1,1))\n",
    "y_train_scaled = y_scaler.transform(y_train.reshape(-1,1))\n",
    "\n",
    "# Initialize GP Model\n",
    "kernel = GPy.kern.RBF(input_dim=X_train.shape[1], variance=10., lengthscale=10.)\n",
    "gp_model = get_optimized_model(X_train, y_train_scaled, kernel)\n",
    "print(\"Mean: %s\" % gp_model.mean_function)\n",
    "print(\"Kernel: %s\" % gp_model.kern)"
   ]
  },
  {
   "cell_type": "code",
   "execution_count": 15,
   "metadata": {},
   "outputs": [
    {
     "name": "stdout",
     "output_type": "stream",
     "text": [
      "Approved 20000.000000\n",
      "Approved 7500.000000\n",
      "Approved 10000.000000\n",
      "Approved 8000.000000\n",
      "Portfolio funds: 54500.000000\n",
      "Approved 35000.000000\n",
      "Approved 12000.000000\n",
      "Approved 5000.000000\n",
      "Portfolio funds: 3816.630000\n",
      "Portfolio funds: 6682.300000\n",
      "Approved 7000.000000\n",
      "Portfolio funds: 2547.970000\n",
      "Portfolio funds: 5648.460000\n",
      "Approved 2500.000000\n",
      "Portfolio funds: 6248.950000\n",
      "Portfolio funds: 9433.210000\n",
      "Approved 10200.000000\n",
      "Portfolio funds: 2417.470000\n",
      "Portfolio funds: 5945.360000\n",
      "Approved 2250.000000\n",
      "Portfolio funds: 7223.250000\n"
     ]
    }
   ],
   "source": [
    "from simulation import *\n",
    "\n",
    "%load_ext autoreload\n",
    "%autoreload 2\n",
    "%reload_ext autoreload\n",
    "\n",
    "# simulate_time_period(gp_model, X_val, y_val, X_scaler, y_scaler, threshold,\n",
    "#                      fund_given=1e5, num_months=10, incoming_loans_per_time_period=10,\n",
    "#                      optimize_for=\"TODO\", version=\"threshold_only\", model_type=\"gp\")"
   ]
  },
  {
   "cell_type": "code",
   "execution_count": 17,
   "metadata": {},
   "outputs": [
    {
     "name": "stdout",
     "output_type": "stream",
     "text": [
      "\n",
      "-- Linear Regression --\n",
      "Mean absolute error: 2188.281\n",
      "R^2 Score:           0.840\n",
      "\n",
      "-- Huber Regressor --\n",
      "Mean absolute error: 1659.147\n",
      "R^2 Score:           0.836\n",
      "\n",
      "-- Linear SVM --\n",
      "Mean absolute error: 1753.697\n",
      "R^2 Score:           0.833\n",
      "\n",
      "-- Poly SVM 2 --\n",
      "Mean absolute error: 2054.468\n",
      "R^2 Score:           0.825\n",
      "\n",
      "-- Poly SVM 5 --\n",
      "Mean absolute error: 2400.171\n",
      "R^2 Score:           0.777\n",
      "\n",
      "-- RBF SVM --\n",
      "Mean absolute error: 1854.323\n",
      "R^2 Score:           0.831\n",
      "\n",
      "---- Threshold: 1.000000 ----\n",
      "Loans approved:    423/500\n",
      "Loans given:       $ 4501.4\n",
      "Payments received: $ 5135.2\n",
      "\n",
      "Profits:           $ 633.9\n",
      "Profit Percentage: 14.1%\n"
     ]
    }
   ],
   "source": [
    "train_and_test_other_models(X_train, y_train, X_test, y_test, X_scaler)"
   ]
  },
  {
   "cell_type": "code",
   "execution_count": null,
   "metadata": {
    "collapsed": true
   },
   "outputs": [],
   "source": []
  }
 ],
 "metadata": {
  "kernelspec": {
   "display_name": "Python 3",
   "language": "python",
   "name": "python3"
  },
  "language_info": {
   "codemirror_mode": {
    "name": "ipython",
    "version": 3
   },
   "file_extension": ".py",
   "mimetype": "text/x-python",
   "name": "python",
   "nbconvert_exporter": "python",
   "pygments_lexer": "ipython3",
   "version": "3.6.2"
  }
 },
 "nbformat": 4,
 "nbformat_minor": 2
}
