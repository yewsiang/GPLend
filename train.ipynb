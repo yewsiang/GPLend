{
 "cells": [
  {
   "cell_type": "code",
   "execution_count": 1,
   "metadata": {
    "collapsed": false
   },
   "outputs": [],
   "source": [
    "import numpy as np\n",
    "from sklearn.preprocessing import MinMaxScaler\n",
    "from data import load_dataset, get_train_test_split"
   ]
  },
  {
   "cell_type": "code",
   "execution_count": 2,
   "metadata": {
    "collapsed": false
   },
   "outputs": [
    {
     "name": "stdout",
     "output_type": "stream",
     "text": [
      "Preprocessing...\n",
      "Feature Engineering...\n",
      "Data shape: (42535, 40)\n"
     ]
    }
   ],
   "source": [
    "filename = \"data/LoanStats3a.csv\"\n",
    "features, data = load_dataset(filename)\n",
    "print(\"Data shape: %s\" % str(features.shape))"
   ]
  },
  {
   "cell_type": "code",
   "execution_count": 28,
   "metadata": {
    "collapsed": false
   },
   "outputs": [
    {
     "name": "stdout",
     "output_type": "stream",
     "text": [
      "X_train: (1000, 38), y_train: (1000,)\n",
      "X_test: (500, 38), y_test: (500,)\n"
     ]
    }
   ],
   "source": [
    "X_train, X_test, y_train, y_test = get_train_test_split(features)\n",
    "\n",
    "# Temporarily use subset of data to debug faster\n",
    "# TODO: Remove\n",
    "X_train, y_train = X_train[:1000,:], y_train[:1000]\n",
    "X_test, y_test   = X_test[:500,:], y_test[:500]\n",
    "\n",
    "# Normalize\n",
    "scaler = MinMaxScaler()\n",
    "scaler.fit(X_train)\n",
    "X_train = scaler.transform(X_train)\n",
    "X_test = scaler.transform(X_test)\n",
    "\n",
    "print(\"X_train: %s, y_train: %s\" % (str(X_train.shape), str(y_train.shape)))\n",
    "print(\"X_test: %s, y_test: %s\" % (str(X_test.shape), str(y_test.shape)))"
   ]
  },
  {
   "cell_type": "code",
   "execution_count": 83,
   "metadata": {
    "collapsed": true
   },
   "outputs": [],
   "source": [
    "def evaluate_model(model, X, y):\n",
    "    pred = model.predict(X)\n",
    "    score = model.score(X, y)\n",
    "    mean_abs_err = np.mean(np.abs(pred - y))\n",
    "\n",
    "    print(\"Mean absolute error: %.3f\" % mean_abs_err)\n",
    "    print(\"R^2 Score:           %.3f\" % score)\n",
    "\n",
    "def lend_using_target_only(model, X, y, scaler, threshold=1.0):\n",
    "    \"\"\"\n",
    "    Simulate making loans with the trained model using only the target\n",
    "    (the regressed total payment of the customer).\n",
    "    If predicted total payment of customer is below (threshold * X[0]) \n",
    "    (where X[0] is the loan amount), reject making the loan.\n",
    "    \"\"\"\n",
    "    loan_amount = scaler.inverse_transform(X)[:,0]\n",
    "    satisfactory_payment = threshold * loan_amount\n",
    "    regressed_total_payment = model.predict(X)\n",
    "    loans_approved = regressed_total_payment > satisfactory_payment\n",
    "    \n",
    "    # Loaning to all\n",
    "    loans_given_prev = np.sum(loan_amount[:]) / 1000\n",
    "    payments_prev = np.sum(y) / 1000\n",
    "    profits_prev = payments_prev - loans_given_prev\n",
    "    profit_percentage_prev = profits_prev / loans_given_prev * 100\n",
    "    \n",
    "    # Loan according to model and threshold\n",
    "    loans_given = np.sum(loan_amount[loans_approved]) / 1000\n",
    "    payments = np.sum(y[loans_approved]) / 1000\n",
    "    profits = payments - loans_given\n",
    "    profit_percentage = profits / loans_given * 100\n",
    "    \n",
    "    print(\"\\n--- Without model ---\")\n",
    "    print(\"Loans approved:    %d/%d\" % (X.shape[0], X.shape[0]))\n",
    "    print(\"Loans given:       $ %.1f\" % loans_given_prev)\n",
    "    print(\"Payments received: $ %.1f\\n\" % payments_prev)\n",
    "    print(\"Profits:           $ %.1f\" % (profits_prev))\n",
    "    print(\"Profit Percentage: %.1f%%\" % (profit_percentage_prev))\n",
    "    \n",
    "    print(\"\\n---- With model ----\")\n",
    "    print(\"Loans approved:    %d/%d\" % (np.sum(loans_approved), X.shape[0]))\n",
    "    print(\"Loans given:       $ %.1f\" % loans_given)\n",
    "    print(\"Payments received: $ %.1f\\n\" % payments)\n",
    "    print(\"Profits:           $ %.1f\" % (profits))\n",
    "    print(\"Profit Percentage: %.1f%%\" % (profit_percentage))\n",
    "    "
   ]
  },
  {
   "cell_type": "code",
   "execution_count": 31,
   "metadata": {
    "collapsed": false
   },
   "outputs": [
    {
     "name": "stdout",
     "output_type": "stream",
     "text": [
      "\n",
      "-- Linear Regression --\n",
      "Mean absolute error: 1989.449\n",
      "R^2 Score:           0.856\n",
      "\n",
      "-- Huber Regressor --\n",
      "Mean absolute error: 1716.457\n",
      "R^2 Score:           0.819\n",
      "\n",
      "-- Linear SVM --\n",
      "Mean absolute error: 1740.245\n",
      "R^2 Score:           0.830\n",
      "\n",
      "-- Poly SVM 2 --\n",
      "Mean absolute error: 2020.491\n",
      "R^2 Score:           0.821\n",
      "\n",
      "-- Poly SVM 5 --\n",
      "Mean absolute error: 2378.822\n",
      "R^2 Score:           0.773\n",
      "\n",
      "-- RBF SVM --\n",
      "Mean absolute error: 1800.284\n",
      "R^2 Score:           0.830\n"
     ]
    }
   ],
   "source": [
    "# Regression models\n",
    "from sklearn.svm import SVR\n",
    "from sklearn.linear_model import LinearRegression, HuberRegressor\n",
    "\n",
    "# Linear Regression\n",
    "print(\"\\n-- Linear Regression --\")\n",
    "lin_reg = LinearRegression()\n",
    "lin_reg.fit(X_train, y_train)\n",
    "evaluate_model(lin_reg, X_test, y_test)\n",
    "\n",
    "# Huber Regressor\n",
    "print(\"\\n-- Huber Regressor --\")\n",
    "hub_reg = HuberRegressor(epsilon=1.)\n",
    "hub_reg.fit(X_train, y_train)\n",
    "evaluate_model(hub_reg, X_test, y_test)\n",
    "\n",
    "# Linear SVM\n",
    "print(\"\\n-- Linear SVM --\")\n",
    "svm_lin = SVR(kernel=\"linear\", C=1e3)\n",
    "svm_lin.fit(X_train, y_train)\n",
    "evaluate_model(svm_lin, X_test, y_test)\n",
    "\n",
    "# Poly SVM\n",
    "print(\"\\n-- Poly SVM 2 --\")\n",
    "svm_poly_2 = SVR(kernel=\"poly\", degree=2, C=1e5)\n",
    "svm_poly_2.fit(X_train, y_train)\n",
    "evaluate_model(svm_poly_2, X_test, y_test)\n",
    "\n",
    "print(\"\\n-- Poly SVM 5 --\")\n",
    "svm_poly_5 = SVR(kernel=\"poly\", degree=5, C=1e8)\n",
    "svm_poly_5.fit(X_train, y_train)\n",
    "evaluate_model(svm_poly_5, X_test, y_test)\n",
    "\n",
    "# RBF SVM\n",
    "print(\"\\n-- RBF SVM --\")\n",
    "svm_rbf = SVR(kernel=\"rbf\", C=1e4)\n",
    "svm_rbf.fit(X_train, y_train)\n",
    "evaluate_model(svm_rbf, X_test, y_test)\n"
   ]
  },
  {
   "cell_type": "code",
   "execution_count": 84,
   "metadata": {
    "collapsed": false
   },
   "outputs": [
    {
     "name": "stdout",
     "output_type": "stream",
     "text": [
      "\n",
      "--- Without model ---\n",
      "Loans approved:    500/500\n",
      "Loans given:       $ 5408.2\n",
      "Payments received: $ 5924.2\n",
      "\n",
      "Profits:           $ 516.0\n",
      "Profit Percentage: 9.5%\n",
      "\n",
      "---- With model ----\n",
      "Loans approved:    395/500\n",
      "Loans given:       $ 4534.4\n",
      "Payments received: $ 5179.5\n",
      "\n",
      "Profits:           $ 645.1\n",
      "Profit Percentage: 14.2%\n"
     ]
    }
   ],
   "source": [
    "lend_using_target_only(lin_reg, X_test, y_test, scaler, threshold=1.0)"
   ]
  }
 ],
 "metadata": {
  "kernelspec": {
   "display_name": "Python 3",
   "language": "python",
   "name": "python3"
  },
  "language_info": {
   "codemirror_mode": {
    "name": "ipython",
    "version": 3
   },
   "file_extension": ".py",
   "mimetype": "text/x-python",
   "name": "python",
   "nbconvert_exporter": "python",
   "pygments_lexer": "ipython3",
   "version": "3.5.1"
  }
 },
 "nbformat": 4,
 "nbformat_minor": 2
}
