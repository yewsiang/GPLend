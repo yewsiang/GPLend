{
 "cells": [
  {
   "cell_type": "code",
   "execution_count": 1,
   "metadata": {
    "collapsed": false
   },
   "outputs": [],
   "source": [
    "import numpy as np\n",
    "from sklearn.preprocessing import MinMaxScaler\n",
    "from data import load_dataset, get_train_test_split"
   ]
  },
  {
   "cell_type": "code",
   "execution_count": 2,
   "metadata": {
    "collapsed": false
   },
   "outputs": [
    {
     "name": "stdout",
     "output_type": "stream",
     "text": [
      "Preprocessing...\n",
      "Feature Engineering...\n",
      "Data shape: (42535, 40)\n"
     ]
    }
   ],
   "source": [
    "filename = \"data/LoanStats3a.csv\"\n",
    "features, data = load_dataset(filename)\n",
    "print(\"Data shape: %s\" % str(features.shape))"
   ]
  },
  {
   "cell_type": "code",
   "execution_count": 3,
   "metadata": {
    "collapsed": false
   },
   "outputs": [
    {
     "name": "stdout",
     "output_type": "stream",
     "text": [
      "[[  5.00000000e+03   1.06500000e+01   1.62870000e+02   5.86332000e+03\n",
      "    1.00000000e+01   1.00000000e+00   0.00000000e+00   0.00000000e+00\n",
      "    0.00000000e+00   0.00000000e+00   2.40000000e+04   1.00000000e+00\n",
      "    0.00000000e+00   0.00000000e+00   1.00000000e+00   0.00000000e+00\n",
      "    0.00000000e+00   0.00000000e+00   0.00000000e+00   0.00000000e+00\n",
      "    0.00000000e+00   0.00000000e+00   0.00000000e+00   0.00000000e+00\n",
      "    0.00000000e+00   0.00000000e+00   0.00000000e+00   0.00000000e+00\n",
      "    0.00000000e+00   2.76500000e+01   0.00000000e+00   1.00000000e+00\n",
      "    6.90775628e+00   6.90775628e+00   3.00000000e+00   0.00000000e+00\n",
      "    9.00000000e+00   0.00000000e+00   0.00000000e+00   5.86315519e+03]\n",
      " [  2.50000000e+03   1.52700000e+01   5.98300000e+01   3.58980000e+03\n",
      "    5.00000000e-01   1.00000000e+00   0.00000000e+00   0.00000000e+00\n",
      "    0.00000000e+00   0.00000000e+00   3.00000000e+04   0.00000000e+00\n",
      "    1.00000000e+00   0.00000000e+00   0.00000000e+00   1.00000000e+00\n",
      "    0.00000000e+00   0.00000000e+00   0.00000000e+00   0.00000000e+00\n",
      "    0.00000000e+00   0.00000000e+00   0.00000000e+00   0.00000000e+00\n",
      "    0.00000000e+00   0.00000000e+00   0.00000000e+00   0.00000000e+00\n",
      "    0.00000000e+00   1.00000000e+00   0.00000000e+00   5.00000000e+00\n",
      "    6.90775628e+00   6.90775628e+00   3.00000000e+00   0.00000000e+00\n",
      "    4.00000000e+00   0.00000000e+00   0.00000000e+00   1.01453000e+03]]\n",
      "X_train: (1000, 39), y_train: (1000,)\n",
      "X_test: (500, 39), y_test: (500,)\n"
     ]
    }
   ],
   "source": [
    "print(features[0:2,:])\n",
    "\n",
    "X_train, X_test, y_train, y_test = get_train_test_split(features)\n",
    "\n",
    "# Add bias terms\n",
    "N_train, N_test = X_train.shape[0], X_test.shape[0]\n",
    "X_train = np.hstack([np.ones([N_train, 1]), X_train])\n",
    "X_test  = np.hstack([np.ones([N_test, 1]), X_test])\n",
    "\n",
    "# Temporarily use subset of data to debug faster\n",
    "# TODO: Remove\n",
    "X_train, y_train = X_train[:1000,:], y_train[:1000]\n",
    "X_test, y_test   = X_test[:500,:], y_test[:500]\n",
    "\n",
    "# Scale to mean zero and unit variance\n",
    "scaler = MinMaxScaler()\n",
    "scaler.fit(X_train)\n",
    "X_train = scaler.transform(X_train)\n",
    "X_test = scaler.transform(X_test)\n",
    "\n",
    "print(\"X_train: %s, y_train: %s\" % (str(X_train.shape), str(y_train.shape)))\n",
    "print(\"X_test: %s, y_test: %s\" % (str(X_test.shape), str(y_test.shape)))"
   ]
  },
  {
   "cell_type": "code",
   "execution_count": 6,
   "metadata": {
    "collapsed": true
   },
   "outputs": [],
   "source": [
    "def evaluate_model(model, X, y):\n",
    "    pred = model.predict(X)\n",
    "    score = model.score(X, y)\n",
    "    mean_abs_err = np.mean(np.abs(pred - y))\n",
    "\n",
    "    print(\"Mean absolute error: %.3f\" % mean_abs_err)\n",
    "    print(\"R^2 Score:           %.3f\" % score)"
   ]
  },
  {
   "cell_type": "code",
   "execution_count": 42,
   "metadata": {
    "collapsed": false
   },
   "outputs": [
    {
     "name": "stdout",
     "output_type": "stream",
     "text": [
      "\n",
      "-- Linear Regression --\n",
      "Mean absolute error: 1987.934\n",
      "R^2 Score:           0.855\n",
      "\n",
      "-- Huber Regressor --\n",
      "Mean absolute error: 1716.457\n",
      "R^2 Score:           0.819\n",
      "\n",
      "-- Linear SVM --\n",
      "Mean absolute error: 1740.245\n",
      "R^2 Score:           0.830\n",
      "\n",
      "-- Poly SVM 2 --\n",
      "Mean absolute error: 2026.289\n",
      "R^2 Score:           0.821\n",
      "\n",
      "-- Poly SVM 5 --\n",
      "Mean absolute error: 2396.635\n",
      "R^2 Score:           0.772\n",
      "\n",
      "-- RBF SVM --\n",
      "Mean absolute error: 1801.072\n",
      "R^2 Score:           0.830\n"
     ]
    }
   ],
   "source": [
    "# Regression models\n",
    "from sklearn.svm import SVR\n",
    "from sklearn.linear_model import LinearRegression, HuberRegressor\n",
    "\n",
    "# Linear Regression\n",
    "print(\"\\n-- Linear Regression --\")\n",
    "lin_reg = LinearRegression()\n",
    "lin_reg.fit(X_train, y_train)\n",
    "evaluate_model(lin_reg, X_test, y_test)\n",
    "\n",
    "# Huber Regressor\n",
    "print(\"\\n-- Huber Regressor --\")\n",
    "hub_reg = HuberRegressor(epsilon=1.)\n",
    "hub_reg.fit(X_train, y_train)\n",
    "evaluate_model(hub_reg, X_test, y_test)\n",
    "\n",
    "# Linear SVM\n",
    "print(\"\\n-- Linear SVM --\")\n",
    "svm_lin = SVR(kernel=\"linear\", C=1e3)\n",
    "svm_lin.fit(X_train, y_train)\n",
    "evaluate_model(svm_lin, X_test, y_test)\n",
    "\n",
    "# Poly SVM\n",
    "print(\"\\n-- Poly SVM 2 --\")\n",
    "svm_poly_2 = SVR(kernel=\"poly\", degree=2, C=1e5)\n",
    "svm_poly_2.fit(X_train, y_train)\n",
    "evaluate_model(svm_poly_2, X_test, y_test)\n",
    "\n",
    "print(\"\\n-- Poly SVM 5 --\")\n",
    "svm_poly_5 = SVR(kernel=\"poly\", degree=5, C=1e8)\n",
    "svm_poly_5.fit(X_train, y_train)\n",
    "evaluate_model(svm_poly_5, X_test, y_test)\n",
    "\n",
    "# RBF SVM\n",
    "print(\"\\n-- RBF SVM --\")\n",
    "svm_rbf = SVR(kernel=\"rbf\", C=1e4)\n",
    "svm_rbf.fit(X_train, y_train)\n",
    "evaluate_model(svm_rbf, X_test, y_test)\n"
   ]
  }
 ],
 "metadata": {
  "kernelspec": {
   "display_name": "Python 3",
   "language": "python",
   "name": "python3"
  },
  "language_info": {
   "codemirror_mode": {
    "name": "ipython",
    "version": 3
   },
   "file_extension": ".py",
   "mimetype": "text/x-python",
   "name": "python",
   "nbconvert_exporter": "python",
   "pygments_lexer": "ipython3",
   "version": "3.5.1"
  }
 },
 "nbformat": 4,
 "nbformat_minor": 2
}
