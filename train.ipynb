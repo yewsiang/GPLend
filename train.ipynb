{
 "cells": [
  {
   "cell_type": "code",
   "execution_count": 1,
   "metadata": {
    "collapsed": false
   },
   "outputs": [],
   "source": [
    "import numpy as np\n",
    "from sklearn.preprocessing import MinMaxScaler\n",
    "from data import load_dataset, get_train_test_split\n",
    "from evaluation import evaluate_model, lend_using_target_only"
   ]
  },
  {
   "cell_type": "code",
   "execution_count": 2,
   "metadata": {
    "collapsed": false
   },
   "outputs": [
    {
     "name": "stdout",
     "output_type": "stream",
     "text": [
      "Preprocessing...\n",
      "Feature Engineering...\n",
      "Data shape: (42535, 40)\n"
     ]
    }
   ],
   "source": [
    "filename = \"data/LoanStats3a.csv\"\n",
    "features, data = load_dataset(filename)\n",
    "print(\"Data shape: %s\" % str(features.shape))"
   ]
  },
  {
   "cell_type": "code",
   "execution_count": 3,
   "metadata": {
    "collapsed": false
   },
   "outputs": [
    {
     "name": "stdout",
     "output_type": "stream",
     "text": [
      "X_train: (1000, 38), y_train: (1000,)\n",
      "X_test: (500, 38), y_test: (500,)\n"
     ]
    }
   ],
   "source": [
    "X_train, X_test, y_train, y_test = get_train_test_split(features)\n",
    "\n",
    "# Temporarily use subset of data to debug faster\n",
    "# TODO: Remove\n",
    "X_train, y_train = X_train[:1000,:], y_train[:1000]\n",
    "X_test, y_test   = X_test[:500,:], y_test[:500]\n",
    "\n",
    "# Normalize\n",
    "scaler = MinMaxScaler()\n",
    "scaler.fit(X_train)\n",
    "X_train = scaler.transform(X_train)\n",
    "X_test = scaler.transform(X_test)\n",
    "\n",
    "print(\"X_train: %s, y_train: %s\" % (str(X_train.shape), str(y_train.shape)))\n",
    "print(\"X_test: %s, y_test: %s\" % (str(X_test.shape), str(y_test.shape)))"
   ]
  },
  {
   "cell_type": "code",
   "execution_count": 8,
   "metadata": {
    "collapsed": false
   },
   "outputs": [
    {
     "name": "stdout",
     "output_type": "stream",
     "text": [
      "\n",
      "-- Linear Regression --\n",
      "Mean absolute error: 1992.007\n",
      "R^2 Score:           0.856\n",
      "\n",
      "-- Huber Regressor --\n",
      "Mean absolute error: 1716.457\n",
      "R^2 Score:           0.819\n",
      "\n",
      "-- Linear SVM --\n",
      "Mean absolute error: 1740.245\n",
      "R^2 Score:           0.830\n",
      "\n",
      "-- Poly SVM 2 --\n",
      "Mean absolute error: 2020.491\n",
      "R^2 Score:           0.821\n",
      "\n",
      "-- Poly SVM 5 --\n",
      "Mean absolute error: 2378.822\n",
      "R^2 Score:           0.773\n",
      "\n",
      "-- RBF SVM --\n",
      "Mean absolute error: 1800.284\n",
      "R^2 Score:           0.830\n"
     ]
    }
   ],
   "source": [
    "# Regression models\n",
    "from sklearn.svm import SVR\n",
    "from sklearn.linear_model import LinearRegression, HuberRegressor\n",
    "\n",
    "# Linear Regression\n",
    "print(\"\\n-- Linear Regression --\")\n",
    "lin_reg = LinearRegression()\n",
    "lin_reg.fit(X_train, y_train)\n",
    "evaluate_model(lin_reg, X_test, y_test)\n",
    "\n",
    "# Huber Regressor\n",
    "print(\"\\n-- Huber Regressor --\")\n",
    "hub_reg = HuberRegressor(epsilon=1.)\n",
    "hub_reg.fit(X_train, y_train)\n",
    "evaluate_model(hub_reg, X_test, y_test)\n",
    "\n",
    "# Linear SVM\n",
    "print(\"\\n-- Linear SVM --\")\n",
    "svm_lin = SVR(kernel=\"linear\", C=1e3)\n",
    "svm_lin.fit(X_train, y_train)\n",
    "evaluate_model(svm_lin, X_test, y_test)\n",
    "\n",
    "# Poly SVM\n",
    "print(\"\\n-- Poly SVM 2 --\")\n",
    "svm_poly_2 = SVR(kernel=\"poly\", degree=2, C=1e5)\n",
    "svm_poly_2.fit(X_train, y_train)\n",
    "evaluate_model(svm_poly_2, X_test, y_test)\n",
    "\n",
    "print(\"\\n-- Poly SVM 5 --\")\n",
    "svm_poly_5 = SVR(kernel=\"poly\", degree=5, C=1e8)\n",
    "svm_poly_5.fit(X_train, y_train)\n",
    "evaluate_model(svm_poly_5, X_test, y_test)\n",
    "\n",
    "# RBF SVM\n",
    "print(\"\\n-- RBF SVM --\")\n",
    "svm_rbf = SVR(kernel=\"rbf\", C=1e4)\n",
    "svm_rbf.fit(X_train, y_train)\n",
    "evaluate_model(svm_rbf, X_test, y_test)\n"
   ]
  },
  {
   "cell_type": "code",
   "execution_count": 5,
   "metadata": {
    "collapsed": false
   },
   "outputs": [
    {
     "name": "stdout",
     "output_type": "stream",
     "text": [
      "\n",
      "--- Without model ---\n",
      "Loans approved:    500/500\n",
      "Loans given:       $ 5408.2\n",
      "Payments received: $ 5924.2\n",
      "\n",
      "Profits:           $ 516.0\n",
      "Profit Percentage: 9.5%\n",
      "\n",
      "---- With model ----\n",
      "Loans approved:    392/500\n",
      "Loans given:       $ 4516.9\n",
      "Payments received: $ 5159.8\n",
      "\n",
      "Profits:           $ 642.9\n",
      "Profit Percentage: 14.2%\n"
     ]
    }
   ],
   "source": [
    "# Simulate making loans only to those who can pay back threshold times of original amount\n",
    "regressed_payment = lin_reg.predict(X_test)\n",
    "lend_using_target_only(regressed_payment, X_test, y_test, scaler, threshold=1.0)"
   ]
  },
  {
   "cell_type": "code",
   "execution_count": 6,
   "metadata": {
    "collapsed": false
   },
   "outputs": [],
   "source": [
    "# Gaussian Process\n",
    "import GPy\n",
    "\n",
    "# Normalize\n",
    "y_scaler = MinMaxScaler()\n",
    "y_scaler.fit(y_train.reshape(-1,1))\n",
    "y_train_scaled = y_scaler.transform(y_train.reshape(-1,1))\n",
    "\n",
    "# Initialize GP Model\n",
    "kernel = GPy.kern.RBF(input_dim=X_train.shape[1], variance=1., lengthscale=1.)\n",
    "gp_model = GPy.models.GPRegression(X_train, y_train_scaled, kernel)\n",
    "gp_model.optimize()\n",
    "\n",
    "y_hat, conf = gp_model.predict(X_test)"
   ]
  },
  {
   "cell_type": "code",
   "execution_count": 7,
   "metadata": {
    "collapsed": false
   },
   "outputs": [
    {
     "name": "stdout",
     "output_type": "stream",
     "text": [
      "\n",
      "--- Without model ---\n",
      "Loans approved:    500/500\n",
      "Loans given:       $ 5408.2\n",
      "Payments received: $ 5924.2\n",
      "\n",
      "Profits:           $ 516.0\n",
      "Profit Percentage: 9.5%\n",
      "\n",
      "---- With model ----\n",
      "Loans approved:    387/500\n",
      "Loans given:       $ 4387.3\n",
      "Payments received: $ 5011.0\n",
      "\n",
      "Profits:           $ 623.7\n",
      "Profit Percentage: 14.2%\n"
     ]
    }
   ],
   "source": [
    "# Simulate making loans only to those who can pay back threshold times of original amount\n",
    "regressed_payment = y_scaler.inverse_transform(y_hat).reshape(-1)\n",
    "lend_using_target_only(regressed_payment, X_test, y_test, scaler, threshold=1.0)"
   ]
  }
 ],
 "metadata": {
  "kernelspec": {
   "display_name": "Python 3",
   "language": "python",
   "name": "python3"
  },
  "language_info": {
   "codemirror_mode": {
    "name": "ipython",
    "version": 3
   },
   "file_extension": ".py",
   "mimetype": "text/x-python",
   "name": "python",
   "nbconvert_exporter": "python",
   "pygments_lexer": "ipython3",
   "version": "3.5.1"
  }
 },
 "nbformat": 4,
 "nbformat_minor": 2
}
