{
 "cells": [
  {
   "cell_type": "code",
   "execution_count": 2,
   "metadata": {
    "collapsed": false
   },
   "outputs": [],
   "source": [
    "import numpy as np\n",
    "from sklearn.preprocessing import MinMaxScaler\n",
    "from sklearn.model_selection import train_test_split\n",
    "\n",
    "from optimization import gp_optimize_threshold\n",
    "from data import load_dataset, get_train_test_split\n",
    "from evaluation import evaluate_model, lend_using_target_only"
   ]
  },
  {
   "cell_type": "code",
   "execution_count": 3,
   "metadata": {
    "collapsed": false
   },
   "outputs": [
    {
     "name": "stdout",
     "output_type": "stream",
     "text": [
      "Preprocessing...\n",
      "Feature Engineering...\n",
      "Data shape: (42535, 40)\n"
     ]
    }
   ],
   "source": [
    "filename = \"data/LoanStats3a.csv\"\n",
    "features, data = load_dataset(filename)\n",
    "print(\"Data shape: %s\" % str(features.shape))"
   ]
  },
  {
   "cell_type": "code",
   "execution_count": 4,
   "metadata": {
    "collapsed": false
   },
   "outputs": [
    {
     "name": "stdout",
     "output_type": "stream",
     "text": [
      "X_train: (1000, 38), y_train: (1000,)\n",
      "X_val: (500, 38), y_val: (500,)\n",
      "X_test: (500, 38), y_test: (500,)\n"
     ]
    }
   ],
   "source": [
    "X_train, X_test, y_train, y_test = get_train_test_split(features, test_size=0.3, random_state=0)\n",
    "X_train, X_val, y_train, y_val = train_test_split(X_train, y_train, test_size=0.2, random_state=0)\n",
    "\n",
    "# Temporarily use subset of data to debug faster\n",
    "# TODO: Remove\n",
    "X_train, y_train = X_train[:1000,:], y_train[:1000]\n",
    "X_val, y_val     = X_val[:500,:], y_val[:500]\n",
    "X_test, y_test   = X_test[:500,:], y_test[:500]\n",
    "\n",
    "# Normalize\n",
    "X_scaler = MinMaxScaler()\n",
    "X_scaler.fit(X_train)\n",
    "X_train = X_scaler.transform(X_train)\n",
    "X_val = X_scaler.transform(X_val)\n",
    "X_test = X_scaler.transform(X_test)\n",
    "\n",
    "print(\"X_train: %s, y_train: %s\" % (str(X_train.shape), str(y_train.shape)))\n",
    "print(\"X_val: %s, y_val: %s\" % (str(X_val.shape), str(y_val.shape)))\n",
    "print(\"X_test: %s, y_test: %s\" % (str(X_test.shape), str(y_test.shape)))"
   ]
  },
  {
   "cell_type": "code",
   "execution_count": 5,
   "metadata": {
    "collapsed": false
   },
   "outputs": [
    {
     "name": "stdout",
     "output_type": "stream",
     "text": [
      "\n",
      "-- Linear Regression --\n",
      "Mean absolute error: 2188.281\n",
      "R^2 Score:           0.840\n",
      "\n",
      "-- Huber Regressor --\n",
      "Mean absolute error: 1659.147\n",
      "R^2 Score:           0.836\n",
      "\n",
      "-- Linear SVM --\n"
     ]
    },
    {
     "name": "stderr",
     "output_type": "stream",
     "text": [
      "/Library/Frameworks/Python.framework/Versions/3.5/lib/python3.5/site-packages/scipy/linalg/basic.py:1018: RuntimeWarning: internal gelsd driver lwork query error, required iwork dimension not returned. This is likely the result of LAPACK bug 0038, fixed in LAPACK 3.2.2 (released July 21, 2010). Falling back to 'gelss' driver.\n",
      "  warnings.warn(mesg, RuntimeWarning)\n"
     ]
    },
    {
     "name": "stdout",
     "output_type": "stream",
     "text": [
      "Mean absolute error: 1753.697\n",
      "R^2 Score:           0.833\n",
      "\n",
      "-- Poly SVM 2 --\n",
      "Mean absolute error: 2054.468\n",
      "R^2 Score:           0.825\n",
      "\n",
      "-- Poly SVM 5 --\n",
      "Mean absolute error: 2400.171\n",
      "R^2 Score:           0.777\n",
      "\n",
      "-- RBF SVM --\n",
      "Mean absolute error: 1854.323\n",
      "R^2 Score:           0.831\n"
     ]
    }
   ],
   "source": [
    "# Regression models\n",
    "from sklearn.svm import SVR\n",
    "from sklearn.linear_model import LinearRegression, HuberRegressor\n",
    "\n",
    "# Linear Regression\n",
    "print(\"\\n-- Linear Regression --\")\n",
    "lin_reg = LinearRegression()\n",
    "lin_reg.fit(X_train, y_train)\n",
    "evaluate_model(lin_reg, X_test, y_test)\n",
    "\n",
    "# Huber Regressor\n",
    "print(\"\\n-- Huber Regressor --\")\n",
    "hub_reg = HuberRegressor(epsilon=1.)\n",
    "hub_reg.fit(X_train, y_train)\n",
    "evaluate_model(hub_reg, X_test, y_test)\n",
    "\n",
    "# Linear SVM\n",
    "print(\"\\n-- Linear SVM --\")\n",
    "svm_lin = SVR(kernel=\"linear\", C=1e3)\n",
    "svm_lin.fit(X_train, y_train)\n",
    "evaluate_model(svm_lin, X_test, y_test)\n",
    "\n",
    "# Poly SVM\n",
    "print(\"\\n-- Poly SVM 2 --\")\n",
    "svm_poly_2 = SVR(kernel=\"poly\", degree=2, C=1e5)\n",
    "svm_poly_2.fit(X_train, y_train)\n",
    "evaluate_model(svm_poly_2, X_test, y_test)\n",
    "\n",
    "print(\"\\n-- Poly SVM 5 --\")\n",
    "svm_poly_5 = SVR(kernel=\"poly\", degree=5, C=1e8)\n",
    "svm_poly_5.fit(X_train, y_train)\n",
    "evaluate_model(svm_poly_5, X_test, y_test)\n",
    "\n",
    "# RBF SVM\n",
    "print(\"\\n-- RBF SVM --\")\n",
    "svm_rbf = SVR(kernel=\"rbf\", C=1e4)\n",
    "svm_rbf.fit(X_train, y_train)\n",
    "evaluate_model(svm_rbf, X_test, y_test)\n"
   ]
  },
  {
   "cell_type": "code",
   "execution_count": 6,
   "metadata": {
    "collapsed": false
   },
   "outputs": [
    {
     "name": "stdout",
     "output_type": "stream",
     "text": [
      "\n",
      "---- With model ----\n",
      "Loans approved:    423/500\n",
      "Loans given:       $ 4501.4\n",
      "Payments received: $ 5135.2\n",
      "\n",
      "Profits:           $ 633.9\n",
      "Profit Percentage: 14.1%\n"
     ]
    },
    {
     "data": {
      "text/plain": [
       "633.87401227906503"
      ]
     },
     "execution_count": 6,
     "metadata": {},
     "output_type": "execute_result"
    }
   ],
   "source": [
    "# Simulate making loans only to those who can pay back threshold times of original amount\n",
    "regressed_payment = lin_reg.predict(X_test)\n",
    "lend_using_target_only(regressed_payment, X_test, y_test, X_scaler, threshold=1.0)"
   ]
  },
  {
   "cell_type": "code",
   "execution_count": 7,
   "metadata": {
    "collapsed": false
   },
   "outputs": [
    {
     "data": {
      "text/plain": [
       "<paramz.optimization.optimization.opt_lbfgsb at 0x1087cedd8>"
      ]
     },
     "execution_count": 7,
     "metadata": {},
     "output_type": "execute_result"
    }
   ],
   "source": [
    "# Gaussian Process\n",
    "import GPy\n",
    "\n",
    "# Normalize\n",
    "y_scaler = MinMaxScaler()\n",
    "y_scaler.fit(y_train.reshape(-1,1))\n",
    "y_train_scaled = y_scaler.transform(y_train.reshape(-1,1))\n",
    "\n",
    "# Initialize GP Model\n",
    "kernel = GPy.kern.RBF(input_dim=X_train.shape[1], variance=1., lengthscale=1.)\n",
    "gp_model = GPy.models.GPRegression(X_train, y_train_scaled, kernel)\n",
    "gp_model.optimize()\n"
   ]
  },
  {
   "cell_type": "code",
   "execution_count": 27,
   "metadata": {
    "collapsed": false
   },
   "outputs": [
    {
     "name": "stdout",
     "output_type": "stream",
     "text": [
      "\n",
      "---- Optimizing threshold using X_val ----\n",
      "Threshold: 1.158622\n",
      "\n",
      "---- With model ----\n",
      "Loans approved:    416/500\n",
      "Loans given:       $ 4452.8\n",
      "Payments received: $ 4973.7\n",
      "\n",
      "Profits:           $ 520.9\n",
      "Profit Percentage: 11.7%\n",
      "\n",
      "---- With model ----\n",
      "Loans approved:    128/500\n",
      "Loans given:       $ 941.6\n",
      "Payments received: $ 1161.6\n",
      "\n",
      "Profits:           $ 220.0\n",
      "Profit Percentage: 23.4%\n",
      "\n",
      "----------- Testing on X_test ------------\n",
      "\n",
      "---- With model ----\n",
      "Loans approved:    423/500\n",
      "Loans given:       $ 4479.4\n",
      "Payments received: $ 5096.7\n",
      "\n",
      "Profits:           $ 617.3\n",
      "Profit Percentage: 13.8%\n",
      "\n",
      "---- With model ----\n",
      "Loans approved:    137/500\n",
      "Loans given:       $ 1017.6\n",
      "Payments received: $ 1173.8\n",
      "\n",
      "Profits:           $ 156.2\n",
      "Profit Percentage: 15.3%\n"
     ]
    },
    {
     "data": {
      "text/plain": [
       "156.15602991533774"
      ]
     },
     "execution_count": 27,
     "metadata": {},
     "output_type": "execute_result"
    }
   ],
   "source": [
    "# Use X_val (validation set) to optimize threshold\n",
    "y_hat, conf = gp_model.predict(X_val)\n",
    "regressed_payment = y_scaler.inverse_transform(y_hat).reshape(-1)\n",
    "\n",
    "# Optimize threshold for profits / profit_percentage\n",
    "threshold = gp_optimize_threshold(gp_model, X_val, y_val, X_scaler, y_scaler, optimize_for=\"profit_percentage\")\n",
    "print(\"\\n---- Optimizing threshold using X_val ----\")\n",
    "print(\"Threshold: %f\" % threshold)\n",
    "lend_using_target_only(regressed_payment, X_val, y_val, X_scaler, threshold=1.0)\n",
    "lend_using_target_only(regressed_payment, X_val, y_val, X_scaler, threshold=threshold)\n",
    "\n",
    "# Test threshold value on test set\n",
    "y_hat, conf = gp_model.predict(X_test)\n",
    "regressed_payment = y_scaler.inverse_transform(y_hat).reshape(-1)\n",
    "print(\"\\n----------- Testing on X_test ------------\")\n",
    "lend_using_target_only(regressed_payment, X_test, y_test, X_scaler, threshold=1.0)\n",
    "lend_using_target_only(regressed_payment, X_test, y_test, X_scaler, threshold=threshold)"
   ]
  },
  {
   "cell_type": "code",
   "execution_count": null,
   "metadata": {
    "collapsed": true
   },
   "outputs": [],
   "source": []
  }
 ],
 "metadata": {
  "kernelspec": {
   "display_name": "Python 3",
   "language": "python",
   "name": "python3"
  },
  "language_info": {
   "codemirror_mode": {
    "name": "ipython",
    "version": 3
   },
   "file_extension": ".py",
   "mimetype": "text/x-python",
   "name": "python",
   "nbconvert_exporter": "python",
   "pygments_lexer": "ipython3",
   "version": "3.5.1"
  }
 },
 "nbformat": 4,
 "nbformat_minor": 2
}
