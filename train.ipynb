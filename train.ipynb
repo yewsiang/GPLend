{
 "cells": [
  {
   "cell_type": "code",
   "execution_count": 8,
   "metadata": {
    "collapsed": false
   },
   "outputs": [],
   "source": [
    "import numpy as np\n",
    "from sklearn.preprocessing import MinMaxScaler\n",
    "from sklearn.model_selection import train_test_split\n",
    "\n",
    "from data import load_dataset, get_train_test_split\n",
    "from optimization import gp_optimize_threshold\n",
    "from evaluation import train_and_test_other_models"
   ]
  },
  {
   "cell_type": "code",
   "execution_count": 9,
   "metadata": {
    "collapsed": false
   },
   "outputs": [
    {
     "name": "stdout",
     "output_type": "stream",
     "text": [
      "Preprocessing...\n"
     ]
    },
    {
     "name": "stdout",
     "output_type": "stream",
     "text": [
      "Feature Engineering...\n"
     ]
    },
    {
     "name": "stdout",
     "output_type": "stream",
     "text": [
      "Data shape: (42535, 40)\n"
     ]
    }
   ],
   "source": [
    "filename = \"dataset/LoanStats3a.csv\"\n",
    "features, data = load_dataset(filename)\n",
    "print(\"Data shape: %s\" % str(features.shape))"
   ]
  },
  {
   "cell_type": "code",
   "execution_count": 10,
   "metadata": {
    "collapsed": false
   },
   "outputs": [
    {
     "name": "stdout",
     "output_type": "stream",
     "text": [
      "X_train: (1000, 38), y_train: (1000,)\nX_val: (500, 38), y_val: (500,)\nX_test: (500, 38), y_test: (500,)\n"
     ]
    }
   ],
   "source": [
    "X_train, X_test, y_train, y_test = get_train_test_split(features, test_size=0.3, random_state=0)\n",
    "X_train, X_val, y_train, y_val = train_test_split(X_train, y_train, test_size=0.2, random_state=0)\n",
    "\n",
    "# Temporarily use subset of data to debug faster\n",
    "# TODO: Remove\n",
    "X_train, y_train = X_train[:1000,:], y_train[:1000]\n",
    "X_val, y_val     = X_val[:500,:], y_val[:500]\n",
    "X_test, y_test   = X_test[:500,:], y_test[:500]\n",
    "\n",
    "# Normalize\n",
    "X_scaler = MinMaxScaler()\n",
    "X_scaler.fit(X_train)\n",
    "X_train = X_scaler.transform(X_train)\n",
    "X_val = X_scaler.transform(X_val)\n",
    "X_test = X_scaler.transform(X_test)\n",
    "\n",
    "print(\"X_train: %s, y_train: %s\" % (str(X_train.shape), str(y_train.shape)))\n",
    "print(\"X_val: %s, y_val: %s\" % (str(X_val.shape), str(y_val.shape)))\n",
    "print(\"X_test: %s, y_test: %s\" % (str(X_test.shape), str(y_test.shape)))"
   ]
  },
  {
   "cell_type": "code",
   "execution_count": 11,
   "metadata": {
    "collapsed": false
   },
   "outputs": [
    {
     "data": {
      "text/plain": [
       "<paramz.optimization.optimization.opt_lbfgsb at 0x1c3e56f3c88>"
      ]
     },
     "execution_count": 11,
     "metadata": {},
     "output_type": "execute_result"
    }
   ],
   "source": [
    "# Gaussian Process\n",
    "import GPy\n",
    "\n",
    "# Normalize\n",
    "y_scaler = MinMaxScaler()\n",
    "y_scaler.fit(y_train.reshape(-1,1))\n",
    "y_train_scaled = y_scaler.transform(y_train.reshape(-1,1))\n",
    "\n",
    "# Initialize GP Model\n",
    "kernel = GPy.kern.RBF(input_dim=X_train.shape[1], variance=1., lengthscale=1.)\n",
    "gp_model = GPy.models.GPRegression(X_train, y_train_scaled, kernel)\n",
    "gp_model.optimize()\n"
   ]
  },
  {
   "cell_type": "code",
   "execution_count": 13,
   "metadata": {
    "collapsed": false
   },
   "outputs": [
    {
     "name": "stdout",
     "output_type": "stream",
     "text": [
      "<class 'numpy.ndarray'>\n(500,)\n1.15862234903\n"
     ]
    }
   ],
   "source": [
    "# Use X_val (validation set) to optimize threshold\n",
    "y_hat, conf = gp_model.predict(X_val)\n",
    "regressed_payment = y_scaler.inverse_transform(y_hat).reshape(-1)\n",
    "\n",
    "print(type(regressed_payment))\n",
    "print(regressed_payment.shape)\n",
    "\n",
    "# Optimize threshold for profits / profit_percentage\n",
    "threshold = gp_optimize_threshold(gp_model, X_val, y_val, X_scaler, y_scaler, optimize_for=\"profit_percentage\")\n",
    "\"\"\"\n",
    "print(\"\\n---- Optimizing threshold using X_val ----\")\n",
    "print(\"Threshold: %f\" % threshold)\n",
    "lend_using_target_only(regressed_payment, X_val, y_val, X_scaler, threshold=1.0)\n",
    "lend_using_target_only(regressed_payment, X_val, y_val, X_scaler, threshold=threshold)\n",
    "\n",
    "# Test threshold value on test set\n",
    "y_hat, conf = gp_model.predict(X_test)\n",
    "regressed_payment = y_scaler.inverse_transform(y_hat).reshape(-1)\n",
    "print(\"\\n----------- Testing on X_test ------------\")\n",
    "lend_using_target_only(regressed_payment, X_test, y_test, X_scaler, threshold=1.0)\n",
    "lend_using_target_only(regressed_payment, X_test, y_test, X_scaler, threshold=threshold)\n",
    "\"\"\"\n",
    "print(threshold)"
   ]
  },
  {
   "cell_type": "code",
   "execution_count": 53,
   "metadata": {
    "collapsed": false
   },
   "outputs": [
    {
     "name": "stdout",
     "output_type": "stream",
     "text": [
      "The autoreload extension is already loaded. To reload it, use:\n",
      "  %reload_ext autoreload\n",
      "Approved 15000.000000\n",
      "Approved 30000.000000\n",
      "Portfolio funds: 55000.000000\n",
      "Approved 2300.000000\n",
      "Approved 6000.000000\n",
      "Approved 23000.000000\n",
      "Portfolio funds: 25288.020000\n",
      "Approved 6300.000000\n",
      "Approved 10000.000000\n",
      "Approved 2000.000000\n",
      "Portfolio funds: 9388.680000\n",
      "Approved 9000.000000\n",
      "Portfolio funds: 3428.280000\n",
      "Portfolio funds: 6748.850000\n",
      "Approved 10000.000000\n",
      "Portfolio funds: 69.420000\n",
      "Approved 2300.000000\n",
      "Portfolio funds: 1302.470000\n",
      "Approved 2250.000000\n",
      "Portfolio funds: 2661.600000\n",
      "Portfolio funds: 6352.360000\n",
      "Portfolio funds: 10043.120000\n"
     ]
    }
   ],
   "source": [
    "from simulation import *\n",
    "\n",
    "%load_ext autoreload\n",
    "%autoreload 2\n",
    "%reload_ext autoreload\n",
    "\n",
    "simulate_time_period(gp_model, X_val, y_val, X_scaler, y_scaler, threshold,\n",
    "                     fund_given=1e5, num_months=10, incoming_loans_per_time_period=10,\n",
    "                     optimize_for=\"TODO\", version=\"threshold_only\", model_type=\"gp\")"
   ]
  },
  {
   "cell_type": "code",
   "execution_count": null,
   "metadata": {
    "collapsed": false
   },
   "outputs": [],
   "source": [
    "train_and_test_other_models(X_train, y_train, X_test, y_test, X_scaler)"
   ]
  }
 ],
 "metadata": {
  "kernelspec": {
   "display_name": "Python 3",
   "language": "python",
   "name": "python3"
  },
  "language_info": {
   "codemirror_mode": {
    "name": "ipython",
    "version": 3
   },
   "file_extension": ".py",
   "mimetype": "text/x-python",
   "name": "python",
   "nbconvert_exporter": "python",
   "pygments_lexer": "ipython3",
   "version": "3.5.1"
  }
 },
 "nbformat": 4,
 "nbformat_minor": 2
}
