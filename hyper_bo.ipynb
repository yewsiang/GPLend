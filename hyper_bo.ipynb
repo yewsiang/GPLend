{
 "cells": [
  {
   "cell_type": "code",
   "execution_count": 16,
   "metadata": {},
   "outputs": [
    {
     "name": "stdout",
     "output_type": "stream",
     "text": [
      "Preprocessing...\n",
      "Feature Engineering...\n",
      "Data shape: (42535, 40)\n",
      "The autoreload extension is already loaded. To reload it, use:\n",
      "  %reload_ext autoreload\n"
     ]
    }
   ],
   "source": [
    "from data import load_dataset, get_train_test_split\n",
    "\n",
    "filename = \"dataset/LoanStats3a.csv\"\n",
    "features, data = load_dataset(filename, encoding='utf-8')\n",
    "print(\"Data shape: %s\" % str(features.shape))\n",
    "\n",
    "%load_ext autoreload\n",
    "%autoreload 2\n",
    "%reload_ext autoreload"
   ]
  },
  {
   "cell_type": "code",
   "execution_count": 17,
   "metadata": {
    "collapsed": true
   },
   "outputs": [],
   "source": [
    "from sklearn.model_selection import train_test_split\n",
    "from sklearn.preprocessing import MinMaxScaler\n",
    "\n",
    "SEED            = 1\n",
    "THRESHOLD       = 1.1\n",
    "NUM_PERIODS     = 10\n",
    "NUM_MONTHS      = 60\n",
    "FUND_GIVEN      = 0\n",
    "FUND_FLOW       = 1e4\n",
    "LOANS_PER_MONTH = 100\n",
    "NUM_TRAIN_ROWS_BO = 50\n",
    "BO_TRAIN_SEED   = 2\n",
    "\n",
    "# Data initialization\n",
    "X_train, X_test, y_train, y_test = get_train_test_split(features, test_size=0.3, random_state=0)\n",
    "X_train, X_val, y_train, y_val = train_test_split(X_train, y_train, train_size=0.2, random_state=0)\n",
    "\n",
    "# BO GP training data init\n",
    "X_train_bo, _, y_train_bo, _ = train_test_split(X_train, y_train, train_size=1, random_state=BO_TRAIN_SEED)\n",
    "\n",
    "# Normalize\n",
    "X_scaler = MinMaxScaler()\n",
    "X_scaler.fit(X_train)\n",
    "X_train = X_scaler.transform(X_train)\n",
    "X_val = X_scaler.transform(X_val)\n",
    "X_test_scaled = X_scaler.transform(X_test)\n",
    "X_train_normal = X_scaler.transform(X_train_normal)\n",
    "X_train_bo = X_scaler.transform(X_train_bo)\n",
    "\n",
    "y_scaler = MinMaxScaler()\n",
    "y_scaler.fit(y_train.reshape(-1,1))\n",
    "y_train_scaled = y_scaler.transform(y_train.reshape(-1,1))\n",
    "y_val_scaled = y_scaler.transform(y_val.reshape(-1,1))\n",
    "y_test_scaled = y_scaler.transform(y_test.reshape(-1,1))\n",
    "y_train_normal_scaled = y_scaler.transform(y_train_normal.reshape(-1,1))\n",
    "y_train_bo_scaled = y_scaler.transform(y_train_bo.reshape(-1,1))\n",
    "\n",
    "import GPy\n",
    "import numpy as np\n",
    "\n",
    "from simulation import simulate_N_time_periods\n",
    "\n",
    "def f(c, kappa):\n",
    "    global X_train\n",
    "    global X_train_bo\n",
    "    global y_train_bo_scaled\n",
    "    global y_train_scaled\n",
    "    \n",
    "    X_train_1 = np.copy(X_train)\n",
    "    X_train_bo_1 = np.copy(X_train_bo)\n",
    "    y_train_scaled_1 = np.copy(y_train_scaled)\n",
    "    y_train_bo_scaled_1 = np.copy(y_train_bo_scaled)\n",
    "    \n",
    "    kernel = GPy.kern.RBF(input_dim=X_train.shape[1], variance=1., lengthscale=1.)\n",
    "    gp_model_bay_opt = GPy.models.GPRegression(X_train_bo, y_train_bo_scaled, kernel)\n",
    "    gp_model_bay_opt.optimize()\n",
    "    for i in range(NUM_TRAIN_ROWS_BO):\n",
    "        mean, var = gp_model_bay_opt.predict(X_train_1)\n",
    "        acquisition = mean + np.sqrt(var)*kappa # - get_loan_amnt(X_train).reshape(-1, 1)\n",
    "        next_sample_ind = acquisition.argmax()\n",
    "        next_sample_X = X_train_1[next_sample_ind].reshape(1, -1)\n",
    "        next_sample_y = y_train_scaled_1[next_sample_ind].reshape(1, -1)\n",
    "        X_train_bo_1 = np.concatenate((X_train_bo_1, next_sample_X), axis=0)\n",
    "        y_train_bo_scaled_1 = np.concatenate((y_train_bo_scaled_1, next_sample_y), axis=0)\n",
    "        X_train_1 = np.delete(X_train_1, next_sample_ind, axis=0)\n",
    "        y_train_scaled_1 = np.delete(y_train_scaled_1, next_sample_ind, axis=0)\n",
    "        gp_model_bay_opt.set_XY(X=X_train_bo_1, Y=y_train_bo_scaled_1)\n",
    "        gp_model_bay_opt.optimize()\n",
    "    \n",
    "    perf_bayes_opt = simulate_N_time_periods(\n",
    "        gp_model_bay_opt,\n",
    "        X_val, y_val,\n",
    "        X_scaler, y_scaler,\n",
    "        threshold=THRESHOLD,\n",
    "        num_periods=NUM_PERIODS,\n",
    "        fund_given=FUND_GIVEN, \n",
    "        num_months=NUM_MONTHS,\n",
    "        flow=FUND_FLOW,\n",
    "        incoming_loans_per_time_period=LOANS_PER_MONTH,\n",
    "        conf_quantile=(c*100, 100),\n",
    "        optimize_for=\"TODO\",\n",
    "        version=\"loan_amount_and_variance\",\n",
    "        model_type=\"gp\", seed=SEED\n",
    "    )\n",
    "    return np.mean(np.sum(perf_bayes_opt[:,:,0], axis=1)) / 1e5"
   ]
  },
  {
   "cell_type": "code",
   "execution_count": 18,
   "metadata": {},
   "outputs": [
    {
     "name": "stdout",
     "output_type": "stream",
     "text": [
      "\u001b[31mInitialization\u001b[0m\n",
      "\u001b[94m-----------------------------------------------------\u001b[0m\n",
      " Step |   Time |      Value |         x |         y | \n",
      "    1 | 00m03s | \u001b[35m   1.70422\u001b[0m | \u001b[32m   0.3944\u001b[0m | \u001b[32m   7.0065\u001b[0m | \n",
      "    2 | 00m03s |    1.14533 |    0.3680 |    3.4897 | \n"
     ]
    },
    {
     "name": "stderr",
     "output_type": "stream",
     "text": [
      " C:\\IntelPython3\\lib\\site-packages\\paramz\\transformations.py:111: RuntimeWarning:overflow encountered in expm1\n"
     ]
    },
    {
     "name": "stdout",
     "output_type": "stream",
     "text": [
      "    3 | 00m03s |    1.13689 |    0.2966 |    2.8129 | \n",
      "    4 | 00m03s |    1.53672 |    0.4807 |    6.6574 | \n",
      "    5 | 00m03s |    1.59981 |    0.4377 |    6.7497 | \n",
      "\u001b[31mBayesian Optimization\u001b[0m\n",
      "\u001b[94m-----------------------------------------------------\u001b[0m\n",
      " Step |   Time |      Value |         x |         y | \n",
      "    6 | 00m11s |    1.48167 |    0.1000 |    7.5222 | \n",
      "    7 | 00m07s |    1.27784 |    0.5000 |    7.2130 | \n",
      "    8 | 00m06s | \u001b[35m   2.10813\u001b[0m | \u001b[32m   0.1000\u001b[0m | \u001b[32m   7.0184\u001b[0m | \n",
      "    9 | 00m06s |    1.53047 |    0.1000 |    5.8103 | \n",
      "   10 | 00m07s |    1.26235 |    0.5000 |    4.8927 | \n",
      "   11 | 00m08s |    1.67738 |    0.1000 |    6.8827 | \n",
      "   12 | 00m07s | \u001b[35m   2.31281\u001b[0m | \u001b[32m   0.1000\u001b[0m | \u001b[32m   7.1560\u001b[0m | \n",
      "   13 | 00m07s |    1.10165 |    0.5000 |    5.5739 | \n",
      "   14 | 00m07s | \u001b[35m   2.60513\u001b[0m | \u001b[32m   0.1000\u001b[0m | \u001b[32m   4.3261\u001b[0m | \n",
      "   15 | 00m07s |    2.01651 |    0.1000 |    4.5121 | \n",
      "   16 | 00m07s |    2.42774 |    0.1001 |    4.1520 | \n",
      "   17 | 00m04s |    1.97995 |    0.2752 |    4.2821 | \n",
      "   18 | 00m07s |    1.68282 |    0.4871 |    1.6099 | \n",
      "   19 | 00m04s |    2.14661 |    0.1000 |    4.2821 | \n",
      "   20 | 00m11s |    1.82810 |    0.2502 |    9.9810 | \n",
      "   21 | 00m04s |    1.77590 |    0.1151 |    4.3869 | \n",
      "   22 | 00m10s |    1.90809 |    0.3784 |    2.6054 | \n",
      "   23 | 00m04s |    2.04138 |    0.1705 |    4.1553 | \n",
      "   24 | 00m10s |    1.43661 |    0.3804 |    6.8532 | \n",
      "   25 | 00m10s |    2.35360 |    0.1645 |    7.1001 | \n"
     ]
    },
    {
     "name": "stderr",
     "output_type": "stream",
     "text": [
      " C:\\IntelPython3\\lib\\site-packages\\GPy\\kern\\src\\rbf.py:43: RuntimeWarning:overflow encountered in square\n"
     ]
    },
    {
     "name": "stdout",
     "output_type": "stream",
     "text": [
      "   26 | 00m04s |    1.96363 |    0.1000 |    4.0904 | \n"
     ]
    },
    {
     "name": "stderr",
     "output_type": "stream",
     "text": [
      " C:\\IntelPython3\\lib\\site-packages\\paramz\\transformations.py:111: RuntimeWarning:overflow encountered in expm1\n"
     ]
    },
    {
     "name": "stdout",
     "output_type": "stream",
     "text": [
      "   27 | 00m04s |    1.14630 |    0.2493 |    2.8617 | \n",
      "   28 | 00m04s | \u001b[35m   2.64541\u001b[0m | \u001b[32m   0.1029\u001b[0m | \u001b[32m   4.3253\u001b[0m | \n",
      "   29 | 00m11s |    2.02603 |    0.1657 |    6.2063 | \n",
      "   30 | 00m04s |    2.34861 |    0.1425 |    4.3191 | \n",
      "   31 | 00m11s |    2.07556 |    0.1492 |    6.0928 | \n",
      "   32 | 00m04s |    2.31053 |    0.1070 |    7.0977 | \n",
      "   33 | 00m10s |    2.42774 |    0.1001 |    4.1520 | \n",
      "   34 | 00m04s |    1.58883 |    0.1155 |    4.3278 | \n",
      "   35 | 00m04s |    1.81764 |    0.1192 |    9.1304 | \n",
      "   36 | 00m07s |    1.90816 |    0.2998 |    1.8569 | \n",
      "   37 | 00m04s |    2.08234 |    0.1018 |    4.3116 | \n",
      "   38 | 00m07s |    1.62254 |    0.2666 |    2.8472 | \n",
      "   39 | 00m07s |    2.37264 |    0.1429 |    7.1009 | \n",
      "   40 | 00m07s |    2.18671 |    0.1185 |    7.1128 | \n",
      "   41 | 00m04s |    2.22284 |    0.1075 |    4.1382 | \n",
      "   42 | 00m04s |    1.43537 |    0.4690 |    0.5514 | \n",
      "   43 | 00m08s |    1.83227 |    0.2760 |    4.0800 | \n",
      "   44 | 00m08s |    2.22629 |    0.1443 |    4.3048 | \n",
      "   45 | 00m08s |    1.30600 |    0.1009 |    7.1370 | \n",
      "   46 | 00m04s |    2.38895 |    0.1230 |    7.0954 | \n",
      "   47 | 00m05s |    1.41160 |    0.4614 |    9.8489 | \n",
      "   48 | 00m05s |    1.75801 |    0.2172 |    4.4451 | \n",
      "   49 | 00m09s |    2.01359 |    0.3555 |    1.9307 | \n",
      "   50 | 00m10s |    1.82329 |    0.1539 |    7.0882 | \n",
      "   51 | 00m09s |    2.04413 |    0.1549 |    7.1131 | \n",
      "   52 | 00m09s |    2.54533 |    0.1560 |    4.3169 | \n",
      "   53 | 00m09s |    1.41195 |    0.1068 |    7.1684 | \n",
      "   54 | 00m04s |    2.14168 |    0.1245 |    4.1536 | \n",
      "   55 | 00m05s |    1.60771 |    0.3306 |    9.5346 | \n",
      "{'max_val': 2.6454136739974499, 'max_params': {'x': 0.10288556750968324, 'y': 4.3252889003939341}}\n",
      "{'values': [1.4816691777914683, 1.2778362428104797, 2.1081257689239701, 1.5304666680781087, 1.2623508808632395, 1.6773844459127583, 2.3128114313762174, 1.1016541798362272, 2.6051320453420135, 2.0165131228980835, 2.4277401558192881, 1.9799525385407413, 1.6828217857902183, 2.1466092225466746, 1.8280976905398247, 1.7759036267012049, 1.9080945210428186, 2.0413788222899023, 1.4366067656396391, 2.3535956790740338, 1.963630988134399, 1.146303056995861, 2.6454136739974499, 2.02602655867828, 2.3486110062812968, 2.0755606717296264, 2.3105250203708372, 2.4277401558192881, 1.5888348988425574, 1.8176400163456139, 1.9081625526056107, 2.0823424393705143, 1.622544901227472, 2.3726386811280809, 2.1867095202174447, 2.2228404773317272, 1.4353680472973158, 1.8322715557913642, 2.226293956986642, 1.3060034723006639, 2.3889534368346341, 1.411597631706587, 1.7580102900478716, 2.0135928724864325, 1.8232887720773256, 2.0441265169072058, 2.5453318251101922, 1.4119465606530675, 2.1416783567239253, 1.6077107055703614], 'params': [{'x': 0.10000000000000001, 'y': 7.5222202420515796}, {'x': 0.5, 'y': 7.2129542958050967}, {'x': 0.10000000000000001, 'y': 7.0183851814412055}, {'x': 0.10000000000000001, 'y': 5.8102503090284117}, {'x': 0.5, 'y': 4.8927101435507767}, {'x': 0.10000000000000001, 'y': 6.8827445917555581}, {'x': 0.10000000000000001, 'y': 7.1559988255442235}, {'x': 0.5, 'y': 5.5738579172019156}, {'x': 0.10000000000000001, 'y': 4.3261059691311141}, {'x': 0.10000000000000001, 'y': 4.5121023717723086}, {'x': 0.10006088858682932, 'y': 4.1519861285702477}, {'x': 0.27524005205904106, 'y': 4.2820549021602288}, {'x': 0.48708496448185057, 'y': 1.6099208689146787}, {'x': 0.10000000000000001, 'y': 4.2820963131119534}, {'x': 0.25024387423803141, 'y': 9.9810445465238899}, {'x': 0.11509462496884967, 'y': 4.3869456046061739}, {'x': 0.37843673949290835, 'y': 2.605382168111424}, {'x': 0.17051450691783565, 'y': 4.1552917211114719}, {'x': 0.38041439380508602, 'y': 6.8531643739073793}, {'x': 0.16445764311101552, 'y': 7.1001452604106854}, {'x': 0.10000000000000001, 'y': 4.0904200750993382}, {'x': 0.24928119254053077, 'y': 2.8617024255536001}, {'x': 0.10288556750968324, 'y': 4.3252889003939341}, {'x': 0.1656768425247972, 'y': 6.2063084809490476}, {'x': 0.14245044240516119, 'y': 4.3191405053483862}, {'x': 0.14915216213466076, 'y': 6.0927784629075994}, {'x': 0.10704664982884377, 'y': 7.09773866758814}, {'x': 0.10014992200006928, 'y': 4.1520475211898153}, {'x': 0.11551639143719977, 'y': 4.3277541983140893}, {'x': 0.11918146621375066, 'y': 9.1303975430465378}, {'x': 0.29980799689583848, 'y': 1.8568783609994903}, {'x': 0.10183973173016761, 'y': 4.3115748681064279}, {'x': 0.26661645015925561, 'y': 2.8471924862532032}, {'x': 0.14291816855371198, 'y': 7.1009183640839098}, {'x': 0.11849895857865073, 'y': 7.1127633434457964}, {'x': 0.1075317719657768, 'y': 4.1381531664523736}, {'x': 0.46897653340646483, 'y': 0.55144506270530536}, {'x': 0.27601702218402513, 'y': 4.0800312755790875}, {'x': 0.14429533000853445, 'y': 4.3048083924053069}, {'x': 0.10093129507314431, 'y': 7.1369747325439699}, {'x': 0.12304611615416901, 'y': 7.0954049725984545}, {'x': 0.46140301619740864, 'y': 9.8488617061966863}, {'x': 0.21722662882859634, 'y': 4.4450507906253236}, {'x': 0.35552823063555572, 'y': 1.9306994239592548}, {'x': 0.15389592803531421, 'y': 7.0882214104321646}, {'x': 0.15486972614429734, 'y': 7.1131498799801802}, {'x': 0.15596089933374407, 'y': 4.3169319658845069}, {'x': 0.10681145724360581, 'y': 7.1684127000090383}, {'x': 0.12449728738395467, 'y': 4.1535557991305732}, {'x': 0.33057368928428954, 'y': 9.534608016523487}]}\n"
     ]
    }
   ],
   "source": [
    "from bayes_opt import BayesianOptimization as BayOpt\n",
    "\n",
    "pbounds = {'x': [0.1, 0.5], 'y': [0.5, 10]}\n",
    "bo = BayOpt(lambda x, y: f(x, y), pbounds)\n",
    "\n",
    "gp_params = {\"alpha\": 1e-5, \"n_restarts_optimizer\": 2}\n",
    "\n",
    "bo.maximize(n_iter=50, acq='ei', **gp_params)\n",
    "\n",
    "print(bo.res['max'])\n",
    "print(bo.res['all'])"
   ]
  },
  {
   "cell_type": "code",
   "execution_count": null,
   "metadata": {
    "collapsed": true
   },
   "outputs": [],
   "source": []
  }
 ],
 "metadata": {
  "kernelspec": {
   "display_name": "Python 3",
   "language": "python",
   "name": "python3"
  },
  "language_info": {
   "codemirror_mode": {
    "name": "ipython",
    "version": 3
   },
   "file_extension": ".py",
   "mimetype": "text/x-python",
   "name": "python",
   "nbconvert_exporter": "python",
   "pygments_lexer": "ipython3",
   "version": "3.6.2"
  }
 },
 "nbformat": 4,
 "nbformat_minor": 1
}
