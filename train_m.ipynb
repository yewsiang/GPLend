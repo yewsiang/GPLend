{
 "cells": [
  {
   "cell_type": "code",
   "execution_count": 6,
   "metadata": {},
   "outputs": [],
   "source": [
    "import numpy as np\n",
    "from sklearn.preprocessing import MinMaxScaler\n",
    "from sklearn.model_selection import train_test_split\n",
    "\n",
    "from data import load_dataset, get_train_test_split\n",
    "from evaluation import train_and_test_other_models\n",
    "from kernels import test_kernel"
   ]
  },
  {
   "cell_type": "code",
   "execution_count": 7,
   "metadata": {},
   "outputs": [
    {
     "name": "stdout",
     "output_type": "stream",
     "text": [
      "Preprocessing...\n"
     ]
    },
    {
     "name": "stdout",
     "output_type": "stream",
     "text": [
      "Feature Engineering...\n"
     ]
    },
    {
     "name": "stdout",
     "output_type": "stream",
     "text": [
      "Data shape: (42535, 40)\n"
     ]
    }
   ],
   "source": [
    "filename = \"dataset/LoanStats3a.csv\"\n",
    "features, data = load_dataset(filename)\n",
    "print(\"Data shape: %s\" % str(features.shape))"
   ]
  },
  {
   "cell_type": "code",
   "execution_count": 8,
   "metadata": {},
   "outputs": [
    {
     "name": "stdout",
     "output_type": "stream",
     "text": [
      "X_train: (1000, 38), y_train: (1000,)\nX_val: (500, 38), y_val: (500,)\nX_test: (500, 38), y_test: (500,)\n"
     ]
    }
   ],
   "source": [
    "X_train, X_test, y_train, y_test = get_train_test_split(features, test_size=0.3, random_state=0)\n",
    "X_train, X_val, y_train, y_val = train_test_split(X_train, y_train, test_size=0.2, random_state=0)\n",
    "\n",
    "# Temporarily use subset of data to debug faster\n",
    "# TODO: Remove\n",
    "X_train, y_train = X_train[:1000,:], y_train[:1000]\n",
    "X_val, y_val     = X_val[:500,:], y_val[:500]\n",
    "X_test, y_test   = X_test[:500,:], y_test[:500]\n",
    "\n",
    "# Normalize\n",
    "X_scaler = MinMaxScaler()\n",
    "X_scaler.fit(X_train)\n",
    "X_train = X_scaler.transform(X_train)\n",
    "X_val = X_scaler.transform(X_val)\n",
    "X_test = X_scaler.transform(X_test)\n",
    "\n",
    "print(\"X_train: %s, y_train: %s\" % (str(X_train.shape), str(y_train.shape)))\n",
    "print(\"X_val: %s, y_val: %s\" % (str(X_val.shape), str(y_val.shape)))\n",
    "print(\"X_test: %s, y_test: %s\" % (str(X_test.shape), str(y_test.shape)))"
   ]
  },
  {
   "cell_type": "code",
   "execution_count": 9,
   "metadata": {},
   "outputs": [
    {
     "name": "stdout",
     "output_type": "stream",
     "text": [
      "Mean: None\nKernel:   \u001b[1mrbf.       \u001b[0;0m  |           value  |  constraints  |  priors\n  \u001b[1mvariance   \u001b[0;0m  |  0.639194906688  |      +ve      |        \n  \u001b[1mlengthscale\u001b[0;0m  |   9.65784744656  |      +ve      |        \n\n============== Kernel: rbf ====================\n\n----------- Testing on X_test ------------\n\n---- Threshold: 1.000000 ----\nLoans approved:    423/500\nLoans given:       $ 4479.4\nPayments received: $ 5096.7\n\nProfits:           $ 617.3\nProfit Percentage: 13.8%\n\n---- Threshold: 0.983862 ----\nLoans approved:    436/500\nLoans given:       $ 4647.9\nPayments received: $ 5283.8\n\nProfits:           $ 635.9\nProfit Percentage: 13.7%\n0.983862380612\n"
     ]
    }
   ],
   "source": [
    "# Gaussian Process\n",
    "import GPy\n",
    "\n",
    "# Normalize\n",
    "y_scaler = MinMaxScaler()\n",
    "y_scaler.fit(y_train.reshape(-1,1))\n",
    "y_train_scaled = y_scaler.transform(y_train.reshape(-1,1))\n",
    "\n",
    "# Input dimension for kernels\n",
    "input_dim = X_train.shape[1]"
   ]
  },
  {
   "cell_type": "code",
   "execution_count": 15,
   "metadata": {},
   "outputs": [
    {
     "name": "stdout",
     "output_type": "stream",
     "text": [
      "Mean: None\nKernel:   \u001b[1mrbf.       \u001b[0;0m  |           value  |  constraints  |  priors\n  \u001b[1mvariance   \u001b[0;0m  |  0.639194906688  |      +ve      |        \n  \u001b[1mlengthscale\u001b[0;0m  |   9.65784744656  |      +ve      |        \n\n============== Kernel: rbf ====================\n\n----------- Testing on X_test ------------\n\n---- Threshold: 1.000000 ----\nLoans approved:    423/500\nLoans given:       $ 4479.4\nPayments received: $ 5096.7\n\nProfits:           $ 617.3\nProfit Percentage: 13.8%\n\n---- Threshold: 0.983862 ----\nLoans approved:    436/500\nLoans given:       $ 4647.9\nPayments received: $ 5283.8\n\nProfits:           $ 635.9\nProfit Percentage: 13.7%\n0.983862380612\n"
     ]
    }
   ],
   "source": [
    "# Initialize GP Model\n",
    "kernel = GPy.kern.RBF(input_dim=input_dim, variance=1., lengthscale=1.)\n",
    "test_kernel(kernel, X_train, y_train_scaled, X_val, y_val,\n",
    "            X_test, y_test, X_scaler, y_scaler, optimize_for=\"profits\")\n"
   ]
  },
  {
   "cell_type": "code",
   "execution_count": 12,
   "metadata": {
    "collapsed": false
   },
   "outputs": [
    {
     "name": "stdout",
     "output_type": "stream",
     "text": [
      "Mean: None\nKernel:   \u001b[1mMat32.     \u001b[0;0m  |          value  |  constraints  |  priors\n  \u001b[1mvariance   \u001b[0;0m  |  8.06316687872  |      +ve      |        \n  \u001b[1mlengthscale\u001b[0;0m  |  59.1098118972  |      +ve      |        \n\n============== Kernel: Mat32 ====================\n\n----------- Testing on X_test ------------\n\n---- Threshold: 1.000000 ----\nLoans approved:    421/500\nLoans given:       $ 4469.2\nPayments received: $ 5084.4\n\nProfits:           $ 615.2\nProfit Percentage: 13.8%\n\n---- Threshold: 0.981915 ----\nLoans approved:    438/500\nLoans given:       $ 4673.4\nPayments received: $ 5300.2\n\nProfits:           $ 626.8\nProfit Percentage: 13.4%\n0.981915078206\n"
     ]
    }
   ],
   "source": [
    "kernel = GPy.kern.sde_Matern32(input_dim, variance=1., lengthscale=1.)\n",
    "test_kernel(kernel, X_train, y_train_scaled, X_val, y_val,\n",
    "            X_test, y_test, X_scaler, y_scaler, optimize_for=\"profits\")"
   ]
  },
  {
   "cell_type": "code",
   "execution_count": 16,
   "metadata": {},
   "outputs": [
    {
     "name": "stdout",
     "output_type": "stream",
     "text": [
      "38\n"
     ]
    },
    {
     "name": "stdout",
     "output_type": "stream",
     "text": [
      "Mean: None\nKernel:   \u001b[1mlinear.  \u001b[0;0m  |  value  |  constraints  |  priors\n  \u001b[1mvariances\u001b[0;0m  |  (38,)  |      +ve      |        \n\n============== Kernel: linear ====================\n\n----------- Testing on X_test ------------\n\n---- Threshold: 1.000000 ----\nLoans approved:    438/500\nLoans given:       $ 4560.7\nPayments received: $ 5205.3\n\nProfits:           $ 644.6\nProfit Percentage: 14.1%\n\n---- Threshold: 0.996267 ----\nLoans approved:    443/500\nLoans given:       $ 4619.8\nPayments received: $ 5255.4\n\nProfits:           $ 635.7\nProfit Percentage: 13.8%\n0.996266874302\n"
     ]
    }
   ],
   "source": [
    "kernel = GPy.kern.sde_Matern52(input_dim, variance=1., lengthscale=1.)\n",
    "test_kernel(kernel, X_train, y_train_scaled, X_val, y_val,\n",
    "            X_test, y_test, X_scaler, y_scaler, optimize_for=\"profits\")\n"
   ]
  },
  {
   "cell_type": "code",
   "execution_count": 18,
   "metadata": {},
   "outputs": [
    {
     "name": "stdout",
     "output_type": "stream",
     "text": [
      "38\n"
     ]
    },
    {
     "name": "stdout",
     "output_type": "stream",
     "text": [
      "Mean: None\nKernel:   \u001b[1mlinear.  \u001b[0;0m  |  value  |  constraints  |  priors\n  \u001b[1mvariances\u001b[0;0m  |  (38,)  |      +ve      |        \n\n============== Kernel: linear ====================\n\n----------- Testing on X_test ------------\n\n---- Threshold: 1.000000 ----\nLoans approved:    438/500\nLoans given:       $ 4560.7\nPayments received: $ 5205.3\n\nProfits:           $ 644.6\nProfit Percentage: 14.1%\n\n---- Threshold: 0.996267 ----\nLoans approved:    443/500\nLoans given:       $ 4619.8\nPayments received: $ 5255.4\n\nProfits:           $ 635.7\nProfit Percentage: 13.8%\n0.996266874302\n"
     ]
    }
   ],
   "source": [
    "kernel = GPy.kern.Linear(input_dim, ARD=True)\n",
    "test_kernel(kernel, X_train, y_train_scaled, X_val, y_val,\n",
    "            X_test, y_test, X_scaler, y_scaler, optimize_for=\"profits\")"
   ]
  },
  {
   "cell_type": "code",
   "execution_count": null,
   "metadata": {},
   "outputs": [
    {
     "name": "stdout",
     "output_type": "stream",
     "text": [
      "38\n"
     ]
    },
    {
     "name": "stdout",
     "output_type": "stream",
     "text": [
      "Mean: None\nKernel:   \u001b[1mlinear.  \u001b[0;0m  |  value  |  constraints  |  priors\n  \u001b[1mvariances\u001b[0;0m  |  (38,)  |      +ve      |        \n\n============== Kernel: linear ====================\n\n----------- Testing on X_test ------------\n\n---- Threshold: 1.000000 ----\nLoans approved:    438/500\nLoans given:       $ 4560.7\nPayments received: $ 5205.3\n\nProfits:           $ 644.6\nProfit Percentage: 14.1%\n\n---- Threshold: 0.996267 ----\nLoans approved:    443/500\nLoans given:       $ 4619.8\nPayments received: $ 5255.4\n\nProfits:           $ 635.7\nProfit Percentage: 13.8%\n0.996266874302\n"
     ]
    }
   ],
   "source": [
    "from simulation import *\n",
    "\n",
    "%load_ext autoreload\n",
    "%autoreload 2\n",
    "%reload_ext autoreload\n",
    "\n",
    "# simulate_time_period(gp_model, X_val, y_val, X_scaler, y_scaler, threshold,\n",
    "#                      fund_given=1e5, num_months=10, incoming_loans_per_time_period=10,\n",
    "#                      optimize_for=\"TODO\", version=\"threshold_only\", model_type=\"gp\")\n"
   ]
  },
  {
   "cell_type": "code",
   "execution_count": 17,
   "metadata": {},
   "outputs": [
    {
     "name": "stdout",
     "output_type": "stream",
     "text": [
      "\n-- Linear Regression --\n"
     ]
    },
    {
     "name": "stdout",
     "output_type": "stream",
     "text": [
      "Mean absolute error: 2188.281\nR^2 Score:           0.840\n\n-- Huber Regressor --\nMean absolute error: 1659.147\nR^2 Score:           0.836\n\n-- Linear SVM --\n"
     ]
    },
    {
     "name": "stdout",
     "output_type": "stream",
     "text": [
      "Mean absolute error: 1753.697\nR^2 Score:           0.833\n\n-- Poly SVM 2 --\nMean absolute error: 2054.468\nR^2 Score:           0.825\n\n-- Poly SVM 5 --\n"
     ]
    },
    {
     "name": "stdout",
     "output_type": "stream",
     "text": [
      "Mean absolute error: 2400.171\nR^2 Score:           0.777\n\n-- RBF SVM --\nMean absolute error: 1854.323\nR^2 Score:           0.831\n\n---- Threshold: 1.000000 ----\nLoans approved:    423/500\nLoans given:       $ 4501.4\nPayments received: $ 5135.2\n\nProfits:           $ 633.9\nProfit Percentage: 14.1%\n"
     ]
    }
   ],
   "source": [
    "train_and_test_other_models(X_train, y_train, X_test, y_test, X_scaler)"
   ]
  },
  {
   "cell_type": "code",
   "execution_count": null,
   "metadata": {},
   "outputs": [],
   "source": []
  }
 ],
 "metadata": {
  "kernelspec": {
   "display_name": "Python 3",
   "language": "python",
   "name": "python3"
  },
  "language_info": {
   "codemirror_mode": {
    "name": "ipython",
    "version": 3
   },
   "file_extension": ".py",
   "mimetype": "text/x-python",
   "name": "python",
   "nbconvert_exporter": "python",
   "pygments_lexer": "ipython3",
   "version": "3.6.2"
  }
 },
 "nbformat": 4,
 "nbformat_minor": 2
}
